{
 "cells": [
  {
   "cell_type": "code",
   "execution_count": 227,
   "id": "44813c71-d703-4ac5-876d-7ece4d96d258",
   "metadata": {},
   "outputs": [
    {
     "name": "stderr",
     "output_type": "stream",
     "text": [
      "C:\\Users\\Lenovo\\AppData\\Local\\Temp\\ipykernel_10196\\2811979570.py:34: RuntimeWarning: overflow encountered in exp\n",
      "  return np.exp(np.sum((vr-para2[0])**2)/(2*para2[1]**2)+np.log(para2[1])*n-np.sum((vr-para1[0])**2)/(2*para1[1]**2)-np.log(para1[1])*n)\n"
     ]
    },
    {
     "name": "stdout",
     "output_type": "stream",
     "text": [
      "0.3303090909090909\n"
     ]
    },
    {
     "data": {
      "image/png": "[encoded data removed]",
      "text/plain": [
       "<Figure size 400x400 with 1 Axes>"
      ]
     },
     "metadata": {},
     "output_type": "display_data"
    },
    {
     "name": "stdout",
     "output_type": "stream",
     "text": [
      "(2, 110000)\n"
     ]
    }
   ],
   "source": [
    "import matplotlib.pyplot as plt\n",
    "import numpy as np\n",
    "import pandas as pd\n",
    "import random\n",
    "\n",
    "\n",
    "def metropolis(func, steps, init_para, exp_func, burn_in=None) :\n",
    "    if burn_in is None :\n",
    "        burn_in = int(0.1*steps)\n",
    "    steps += burn_in\n",
    "    hist = []\n",
    "    dump = []\n",
    "    pos = np.array(init_para)\n",
    "    for step in range(steps) :\n",
    "        hist += [pos]\n",
    "        new_pos = pos + exp_func()\n",
    "        if new_pos[1]>0 and random.random()<min(1, func(new_pos,pos)) :\n",
    "            pos = new_pos\n",
    "        else :\n",
    "            dump += [new_pos]\n",
    "            \n",
    "    df = pd.DataFrame(np.array(hist), columns=[\"vr\", \"sigma\"])\n",
    "    return np.array(hist), np.array(dump)\n",
    "\n",
    "\n",
    "def lnG(x,x0,sig) :\n",
    "    return -(x-x0)**2/(2*sig**2)-np.log(sig)\n",
    "\n",
    "data_path = '../Materials/data/'\n",
    "data = pd.read_csv(data_path+'Cas3.csv')\n",
    "vr = np.array(data['vr'])\n",
    "n = len(vr)\n",
    "init_para = [-300,8]\n",
    "#func = lambda para1,para2: np.exp(np.sum(lnG(vr,*para1))-np.sum(lnG(vr,*para2)))\n",
    "def func(para1, para2) :\n",
    "    return np.exp(np.sum((vr-para2[0])**2)/(2*para2[1]**2)+np.log(para2[1])*n-np.sum((vr-para1[0])**2)/(2*para1[1]**2)-np.log(para1[1])*n)\n",
    "def exp_func(sx,sy) :\n",
    "    def f() :\n",
    "        return np.array([random.gauss(0, sx), random.gauss(0, sy)])\n",
    "    return f\n",
    "def analyse() :\n",
    "    hist, dump = metropolis(func=func, steps=100000, init_para=init_para, exp_func=exp_func(1,1))\n",
    "    print(1-len(dump)/(len(hist)))\n",
    "    if False :\n",
    "        return\n",
    "    plt.figure(figsize=(4,4))\n",
    "    plt.xlim(-480,-240)\n",
    "    plt.ylim(-12,36)\n",
    "    plt.scatter(*hist.T,alpha=1,s=0.3)\n",
    "    plt.show()\n",
    "    df.to_csv(\"output.csv\", index=False)\n",
    "analyse()"
   ]
  },
  {
   "cell_type": "code",
   "execution_count": 73,
   "id": "49637b8b-6198-48d6-875e-ef2b1df12e42",
   "metadata": {},
   "outputs": [
    {
     "name": "stderr",
     "output_type": "stream",
     "text": [
      "C:\\Users\\Lenovo\\AppData\\Local\\Temp\\ipykernel_10196\\3055764961.py:4: RuntimeWarning: overflow encountered in exp\n",
      "  np.exp(func(np.array([300,10]),np.array([300,9])))<1\n"
     ]
    },
    {
     "data": {
      "text/plain": [
       "False"
      ]
     },
     "execution_count": 73,
     "metadata": {},
     "output_type": "execute_result"
    }
   ],
   "source": [
    "n = len(vr)\n",
    "def func(para1, para2) :\n",
    "    return np.sum((vr-para2[0])**2)/(2*para2[1]**2)+np.log(para2[1])*n-np.sum((vr-para1[0])**2)/(2*para1[1]**2)-np.log(para1[1])*n\n",
    "np.exp(func(np.array([300,10]),np.array([300,9])))<1"
   ]
  },
  {
   "cell_type": "code",
   "execution_count": null,
   "id": "5d0615f8-be63-4c92-ac12-9d4461303796",
   "metadata": {},
   "outputs": [],
   "source": []
  }
 ],
 "metadata": {
  "kernelspec": {
   "display_name": "Python [conda env:base] *",
   "language": "python",
   "name": "conda-base-py"
  },
  "language_info": {
   "codemirror_mode": {
    "name": "ipython",
    "version": 3
   },
   "file_extension": ".py",
   "mimetype": "text/x-python",
   "name": "python",
   "nbconvert_exporter": "python",
   "pygments_lexer": "ipython3",
   "version": "3.12.7"
  }
 },
 "nbformat": 4,
 "nbformat_minor": 5
}
